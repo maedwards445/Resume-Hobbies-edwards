{
 "cells": [
  {
   "cell_type": "code",
   "execution_count": null,
   "metadata": {},
   "outputs": [],
   "source": [
    "<!DOCTYPE html>\n",
    "<html lang=\"en\">\n",
    "<head>\n",
    "    <meta charset=\"UTF-8\">\n",
    "    <meta name=\"viewport\" content=\"width=device-width, initial-scale=1.0\">\n",
    "    <title>Hobbies</title>\n",
    "    <style>\n",
    "        body {\n",
    "            background-color: #f9f9f9;\n",
    "            font-family: Arial, sans-serif;\n",
    "            color: #333;\n",
    "        }\n",
    "\n",
    "        h1 {\n",
    "            text-align: center;\n",
    "            color: #2c3e50;\n",
    "        }\n",
    "\n",
    "        ul {\n",
    "            margin: 20px;\n",
    "        }\n",
    "\n",
    "        li {\n",
    "            margin: 10px 0;\n",
    "        }\n",
    "    </style>\n",
    "</head>\n",
    "<body>\n",
    "    <h1>My Hobbies</h1>\n",
    "    <ul>\n",
    "        <li>Reading tech blogs and articles</li>\n",
    "        <li>Traveling and exploring new places</li>\n",
    "        <li>Playing video games</li>\n",
    "        <li>Learning new programming languages</li>\n",
    "    </ul>\n",
    "</body>\n",
    "</html>"
   ]
  }
 ],
 "metadata": {
  "language_info": {
   "name": "python"
  }
 },
 "nbformat": 4,
 "nbformat_minor": 2
}
